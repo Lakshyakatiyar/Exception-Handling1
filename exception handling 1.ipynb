{
 "cells": [
  {
   "cell_type": "markdown",
   "id": "8fc16267-f90f-4270-b796-1533c7705a61",
   "metadata": {},
   "source": [
    "1.Exceptions:\n",
    "An exception in Python is an event that occurs during the execution of a program that disrupts the normal flow of the program's instructions. Exceptions are typically errors that occur when the program is syntactically correct but encounters an issue during execution, such as dividing by zero or attempting to open a file that does not exist.\n",
    "\n",
    "Syntax Errors:\n",
    "Syntax errors, on the other hand, occur when the code written does not conform to the syntax rules of the programming language. These errors are detected at compile time before the program runs.\n",
    "\n",
    "Differences:\n",
    "\n",
    "Occurrence:\n",
    "\n",
    "Exception: Occurs at runtime.\n",
    "Syntax Error: Detected at compile time before execution.\n",
    "Cause:\n",
    "\n",
    "Exception: Caused by unexpected conditions or logical errors, such as file not found, division by zero, etc.\n",
    "Syntax Error: Caused by incorrect use of the programming language syntax, such as missing colons, misspelled keywords, etc.\n",
    "Handling:\n",
    "\n",
    "Exception: Can be handled using try, except, finally blocks.\n",
    "Syntax Error: Needs to be fixed in the code; cannot be caught or handled during program execution.\n",
    "\n"
   ]
  },
  {
   "cell_type": "code",
   "execution_count": 1,
   "id": "f367f156-5d76-44d3-88bf-a118b723161c",
   "metadata": {},
   "outputs": [
    {
     "ename": "ZeroDivisionError",
     "evalue": "division by zero",
     "output_type": "error",
     "traceback": [
      "\u001b[0;31m---------------------------------------------------------------------------\u001b[0m",
      "\u001b[0;31mZeroDivisionError\u001b[0m                         Traceback (most recent call last)",
      "Cell \u001b[0;32mIn[1], line 6\u001b[0m\n\u001b[1;32m      3\u001b[0m \u001b[38;5;28;01mdef\u001b[39;00m \u001b[38;5;21mdivide\u001b[39m(a, b):\n\u001b[1;32m      4\u001b[0m     \u001b[38;5;28;01mreturn\u001b[39;00m a \u001b[38;5;241m/\u001b[39m b\n\u001b[0;32m----> 6\u001b[0m result \u001b[38;5;241m=\u001b[39m \u001b[43mdivide\u001b[49m\u001b[43m(\u001b[49m\u001b[38;5;241;43m10\u001b[39;49m\u001b[43m,\u001b[49m\u001b[43m \u001b[49m\u001b[38;5;241;43m0\u001b[39;49m\u001b[43m)\u001b[49m\n\u001b[1;32m      7\u001b[0m \u001b[38;5;28mprint\u001b[39m(result)\n",
      "Cell \u001b[0;32mIn[1], line 4\u001b[0m, in \u001b[0;36mdivide\u001b[0;34m(a, b)\u001b[0m\n\u001b[1;32m      3\u001b[0m \u001b[38;5;28;01mdef\u001b[39;00m \u001b[38;5;21mdivide\u001b[39m(a, b):\n\u001b[0;32m----> 4\u001b[0m     \u001b[38;5;28;01mreturn\u001b[39;00m \u001b[43ma\u001b[49m\u001b[43m \u001b[49m\u001b[38;5;241;43m/\u001b[39;49m\u001b[43m \u001b[49m\u001b[43mb\u001b[49m\n",
      "\u001b[0;31mZeroDivisionError\u001b[0m: division by zero"
     ]
    }
   ],
   "source": [
    "#2.When an exception is not handled, it propagates up the call stack, causing the program to terminate abruptly and print a traceback to the console,\n",
    "#indicating where the error occurred and what type of exception it was.\n",
    "def divide(a, b):\n",
    "    return a / b\n",
    "\n",
    "result = divide(10, 0)\n",
    "print(result)\n"
   ]
  },
  {
   "cell_type": "code",
   "execution_count": 2,
   "id": "4bc160d3-948a-4c1b-b8c0-034128ecd069",
   "metadata": {},
   "outputs": [
    {
     "name": "stdin",
     "output_type": "stream",
     "text": [
      "Enter a number:  10\n"
     ]
    },
    {
     "name": "stdout",
     "output_type": "stream",
     "text": [
      "The result is: 1.0\n",
      "Execution complete.\n"
     ]
    }
   ],
   "source": [
    "try:\n",
    "    num = int(input(\"Enter a number: \"))\n",
    "    result = 10 / num\n",
    "except ZeroDivisionError:\n",
    "    print(\"You can't divide by zero!\")\n",
    "except ValueError:\n",
    "    print(\"Please enter a valid integer.\")\n",
    "else:\n",
    "    print(\"The result is:\", result)\n",
    "finally:\n",
    "    print(\"Execution complete.\")\n"
   ]
  },
  {
   "cell_type": "code",
   "execution_count": null,
   "id": "3e370ab2-56b6-486d-ad70-23e7d9477873",
   "metadata": {},
   "outputs": [],
   "source": [
    "#try: Block of code to attempt execution.\n",
    "#else: Block of code that executes if the try block does not raise an exception.\n",
    "#finally: Block of code that executes no matter what (whether an exception occurred or not).\n",
    "#raise: Keyword used to raise an exception.\n"
   ]
  }
 ],
 "metadata": {
  "kernelspec": {
   "display_name": "Python 3 (ipykernel)",
   "language": "python",
   "name": "python3"
  },
  "language_info": {
   "codemirror_mode": {
    "name": "ipython",
    "version": 3
   },
   "file_extension": ".py",
   "mimetype": "text/x-python",
   "name": "python",
   "nbconvert_exporter": "python",
   "pygments_lexer": "ipython3",
   "version": "3.10.8"
  }
 },
 "nbformat": 4,
 "nbformat_minor": 5
}
